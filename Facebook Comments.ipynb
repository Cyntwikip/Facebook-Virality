{
 "cells": [
  {
   "cell_type": "markdown",
   "metadata": {},
   "source": [
    "<h2>DON'T run all cells. Cells in which MLP regressor and SVR are being trained are VERY VERY SLOW.</h2>"
   ]
  },
  {
   "cell_type": "markdown",
   "metadata": {},
   "source": [
    "<h2>Import</h2>"
   ]
  },
  {
   "cell_type": "code",
   "execution_count": 1,
   "metadata": {},
   "outputs": [
    {
     "name": "stdout",
     "output_type": "stream",
     "text": [
      "Populating the interactive namespace from numpy and matplotlib\n"
     ]
    }
   ],
   "source": [
    "%pylab inline\n",
    "import pandas as pd\n",
    "import numpy as np\n",
    "from sklearn.preprocessing import PolynomialFeatures\n",
    "from sklearn import linear_model\n",
    "from sklearn.model_selection import train_test_split"
   ]
  },
  {
   "cell_type": "markdown",
   "metadata": {},
   "source": [
    "<h2>Initialization</h2>"
   ]
  },
  {
   "cell_type": "code",
   "execution_count": 2,
   "metadata": {},
   "outputs": [
    {
     "name": "stdout",
     "output_type": "stream",
     "text": [
      "['page_likes', 'page_checkins', 'page_talking_about', 'page_category', 'D1', 'D2', 'D3', 'D4', 'D5', 'D6', 'D7', 'D8', 'D9', 'D10', 'D11', 'D12', 'D13', 'D14', 'D15', 'D16', 'D17', 'D18', 'D19', 'D20', 'D21', 'D22', 'D23', 'D24', 'D25', 'cc1', 'cc2', 'cc3', 'cc4', 'cc5', 'base_time', 'post_length', 'post_share_count', 'post_promotion_status', 'h_local', 'ppw1', 'ppw2', 'ppw3', 'ppw4', 'ppw5', 'ppw6', 'ppw7', 'bdtw1', 'bdtw2', 'bdtw3', 'bdtw4', 'bdtw5', 'bdtw6', 'bdtw7', 'target_value']\n",
      "54\n"
     ]
    },
    {
     "data": {
      "text/html": [
       "<div>\n",
       "<style>\n",
       "    .dataframe thead tr:only-child th {\n",
       "        text-align: right;\n",
       "    }\n",
       "\n",
       "    .dataframe thead th {\n",
       "        text-align: left;\n",
       "    }\n",
       "\n",
       "    .dataframe tbody tr th {\n",
       "        vertical-align: top;\n",
       "    }\n",
       "</style>\n",
       "<table border=\"1\" class=\"dataframe\">\n",
       "  <thead>\n",
       "    <tr style=\"text-align: right;\">\n",
       "      <th></th>\n",
       "      <th>page_likes</th>\n",
       "      <th>page_checkins</th>\n",
       "      <th>page_talking_about</th>\n",
       "      <th>page_category</th>\n",
       "      <th>D1</th>\n",
       "      <th>D2</th>\n",
       "      <th>D3</th>\n",
       "      <th>D4</th>\n",
       "      <th>D5</th>\n",
       "      <th>D6</th>\n",
       "      <th>...</th>\n",
       "      <th>ppw6</th>\n",
       "      <th>ppw7</th>\n",
       "      <th>bdtw1</th>\n",
       "      <th>bdtw2</th>\n",
       "      <th>bdtw3</th>\n",
       "      <th>bdtw4</th>\n",
       "      <th>bdtw5</th>\n",
       "      <th>bdtw6</th>\n",
       "      <th>bdtw7</th>\n",
       "      <th>target_value</th>\n",
       "    </tr>\n",
       "  </thead>\n",
       "  <tbody>\n",
       "    <tr>\n",
       "      <th>0</th>\n",
       "      <td>634995</td>\n",
       "      <td>0</td>\n",
       "      <td>463</td>\n",
       "      <td>1</td>\n",
       "      <td>0.0</td>\n",
       "      <td>806.0</td>\n",
       "      <td>11.291045</td>\n",
       "      <td>1.0</td>\n",
       "      <td>70.495138</td>\n",
       "      <td>0.0</td>\n",
       "      <td>...</td>\n",
       "      <td>0</td>\n",
       "      <td>0</td>\n",
       "      <td>0</td>\n",
       "      <td>0</td>\n",
       "      <td>0</td>\n",
       "      <td>0</td>\n",
       "      <td>0</td>\n",
       "      <td>0</td>\n",
       "      <td>1</td>\n",
       "      <td>0</td>\n",
       "    </tr>\n",
       "    <tr>\n",
       "      <th>1</th>\n",
       "      <td>634995</td>\n",
       "      <td>0</td>\n",
       "      <td>463</td>\n",
       "      <td>1</td>\n",
       "      <td>0.0</td>\n",
       "      <td>806.0</td>\n",
       "      <td>11.291045</td>\n",
       "      <td>1.0</td>\n",
       "      <td>70.495138</td>\n",
       "      <td>0.0</td>\n",
       "      <td>...</td>\n",
       "      <td>0</td>\n",
       "      <td>0</td>\n",
       "      <td>0</td>\n",
       "      <td>0</td>\n",
       "      <td>0</td>\n",
       "      <td>0</td>\n",
       "      <td>0</td>\n",
       "      <td>1</td>\n",
       "      <td>0</td>\n",
       "      <td>0</td>\n",
       "    </tr>\n",
       "    <tr>\n",
       "      <th>2</th>\n",
       "      <td>634995</td>\n",
       "      <td>0</td>\n",
       "      <td>463</td>\n",
       "      <td>1</td>\n",
       "      <td>0.0</td>\n",
       "      <td>806.0</td>\n",
       "      <td>11.291045</td>\n",
       "      <td>1.0</td>\n",
       "      <td>70.495138</td>\n",
       "      <td>0.0</td>\n",
       "      <td>...</td>\n",
       "      <td>1</td>\n",
       "      <td>0</td>\n",
       "      <td>0</td>\n",
       "      <td>0</td>\n",
       "      <td>0</td>\n",
       "      <td>0</td>\n",
       "      <td>0</td>\n",
       "      <td>0</td>\n",
       "      <td>1</td>\n",
       "      <td>0</td>\n",
       "    </tr>\n",
       "    <tr>\n",
       "      <th>3</th>\n",
       "      <td>634995</td>\n",
       "      <td>0</td>\n",
       "      <td>463</td>\n",
       "      <td>1</td>\n",
       "      <td>0.0</td>\n",
       "      <td>806.0</td>\n",
       "      <td>11.291045</td>\n",
       "      <td>1.0</td>\n",
       "      <td>70.495138</td>\n",
       "      <td>0.0</td>\n",
       "      <td>...</td>\n",
       "      <td>1</td>\n",
       "      <td>0</td>\n",
       "      <td>0</td>\n",
       "      <td>1</td>\n",
       "      <td>0</td>\n",
       "      <td>0</td>\n",
       "      <td>0</td>\n",
       "      <td>0</td>\n",
       "      <td>0</td>\n",
       "      <td>0</td>\n",
       "    </tr>\n",
       "    <tr>\n",
       "      <th>4</th>\n",
       "      <td>634995</td>\n",
       "      <td>0</td>\n",
       "      <td>463</td>\n",
       "      <td>1</td>\n",
       "      <td>0.0</td>\n",
       "      <td>806.0</td>\n",
       "      <td>11.291045</td>\n",
       "      <td>1.0</td>\n",
       "      <td>70.495138</td>\n",
       "      <td>0.0</td>\n",
       "      <td>...</td>\n",
       "      <td>0</td>\n",
       "      <td>0</td>\n",
       "      <td>0</td>\n",
       "      <td>0</td>\n",
       "      <td>0</td>\n",
       "      <td>1</td>\n",
       "      <td>0</td>\n",
       "      <td>0</td>\n",
       "      <td>0</td>\n",
       "      <td>0</td>\n",
       "    </tr>\n",
       "  </tbody>\n",
       "</table>\n",
       "<p>5 rows × 54 columns</p>\n",
       "</div>"
      ],
      "text/plain": [
       "   page_likes  page_checkins  page_talking_about  page_category   D1     D2  \\\n",
       "0      634995              0                 463              1  0.0  806.0   \n",
       "1      634995              0                 463              1  0.0  806.0   \n",
       "2      634995              0                 463              1  0.0  806.0   \n",
       "3      634995              0                 463              1  0.0  806.0   \n",
       "4      634995              0                 463              1  0.0  806.0   \n",
       "\n",
       "          D3   D4         D5   D6      ...       ppw6  ppw7  bdtw1  bdtw2  \\\n",
       "0  11.291045  1.0  70.495138  0.0      ...          0     0      0      0   \n",
       "1  11.291045  1.0  70.495138  0.0      ...          0     0      0      0   \n",
       "2  11.291045  1.0  70.495138  0.0      ...          1     0      0      0   \n",
       "3  11.291045  1.0  70.495138  0.0      ...          1     0      0      1   \n",
       "4  11.291045  1.0  70.495138  0.0      ...          0     0      0      0   \n",
       "\n",
       "   bdtw3  bdtw4  bdtw5  bdtw6  bdtw7  target_value  \n",
       "0      0      0      0      0      1             0  \n",
       "1      0      0      0      1      0             0  \n",
       "2      0      0      0      0      1             0  \n",
       "3      0      0      0      0      0             0  \n",
       "4      0      1      0      0      0             0  \n",
       "\n",
       "[5 rows x 54 columns]"
      ]
     },
     "execution_count": 2,
     "metadata": {},
     "output_type": "execute_result"
    }
   ],
   "source": [
    "import glob\n",
    "\n",
    "path ='./data/' # use your path\n",
    "allFiles = glob.glob(path + \"/*.csv\")\n",
    "frame = pd.DataFrame()\n",
    "list_ = []\n",
    "derived_columns = ['D' + str(i) for i in range(1,26)]\n",
    "columns = [\n",
    "    'page_likes',\n",
    "    'page_checkins',\n",
    "    'page_talking_about',\n",
    "    'page_category',\n",
    "]\n",
    "columns = columns + derived_columns\n",
    "columns = columns + ['cc1', \n",
    "                     'cc2', \n",
    "                     'cc3',\n",
    "                     'cc4',\n",
    "                     'cc5',\n",
    "                     'base_time',\n",
    "                     'post_length',\n",
    "                     'post_share_count',\n",
    "                     'post_promotion_status',\n",
    "                     'h_local']\n",
    "ppw_columns = ['ppw' + str(i) for i in range(1,8)]\n",
    "bdtw_columns = ['bdtw' + str(i) for i in range(1,8)]\n",
    "\n",
    "columns = columns + ppw_columns + bdtw_columns + ['target_value']\n",
    "\n",
    "print(columns)\n",
    "print(len(columns))\n",
    "\n",
    "for file_ in allFiles:\n",
    "    df = pd.read_csv(file_,names=columns)\n",
    "    list_.append(df)\n",
    "frame = pd.concat(list_)\n",
    "frame.head()"
   ]
  },
  {
   "cell_type": "markdown",
   "metadata": {},
   "source": [
    "<h2>Linear Regression</h2>"
   ]
  },
  {
   "cell_type": "code",
   "execution_count": 55,
   "metadata": {},
   "outputs": [
    {
     "name": "stdout",
     "output_type": "stream",
     "text": [
      "Mean squared error: 792.67\n",
      "Variance score: 0.35\n"
     ]
    }
   ],
   "source": [
    "X = frame.drop(['cc5','target_value'], axis=1)\n",
    "y = frame['target_value']\n",
    "X_train, X_test, y_train, y_test = train_test_split(X, y, test_size=0.3)\n",
    "model_linreg = linear_model.LinearRegression()\n",
    "model_linreg.fit(X_train, y_train)\n",
    "\n",
    "# The mean squared error\n",
    "print(\"Mean squared error: %.2f\" % np.mean((model_linreg.predict(X_test) - y_test) ** 2))\n",
    "# Explained variance score: 1 is perfect prediction\n",
    "print('Variance score: %.2f' % model_linreg.score(X_test, y_test))"
   ]
  },
  {
   "cell_type": "markdown",
   "metadata": {},
   "source": [
    "<h2>Linear Regression without derived attributes</h2>"
   ]
  },
  {
   "cell_type": "code",
   "execution_count": 56,
   "metadata": {},
   "outputs": [
    {
     "name": "stdout",
     "output_type": "stream",
     "text": [
      "Mean squared error: 754.96\n",
      "Variance score: 0.32\n"
     ]
    }
   ],
   "source": [
    "X = frame.drop(['cc5','target_value'], axis=1)\n",
    "X = X.drop(derived_columns, axis=1)\n",
    "y = frame[['target_value']]\n",
    "\n",
    "X_train, X_test, y_train, y_test = train_test_split(X, y, test_size=0.3)\n",
    "model_linreg2 = linear_model.LinearRegression()\n",
    "model_linreg2.fit(X_train, y_train)\n",
    "\n",
    "# The mean squared error\n",
    "print(\"Mean squared error: %.2f\" % np.mean((model_linreg2.predict(X_test) - y_test) ** 2))\n",
    "# Explained variance score: 1 is perfect prediction\n",
    "print('Variance score: %.2f' % model_linreg2.score(X_test, y_test))"
   ]
  },
  {
   "cell_type": "markdown",
   "metadata": {},
   "source": [
    "<h2>Conclusion: Removing derived attributes results to approximately the same accuracy</h2>\n",
    "<p>Accuracy fluctuates from around 28% to 35%</p>"
   ]
  },
  {
   "cell_type": "markdown",
   "metadata": {},
   "source": [
    "<h2>Preprocessing</h2>"
   ]
  },
  {
   "cell_type": "code",
   "execution_count": 61,
   "metadata": {
    "collapsed": true
   },
   "outputs": [],
   "source": [
    "# Feature Selection\n",
    "X2 = frame.drop(['cc5','target_value'], axis=1)\n",
    "X2 = X2.drop(derived_columns, axis=1)\n",
    "X2 = X2.drop(ppw_columns, axis=1)\n",
    "X2 = X2.drop(bdtw_columns, axis=1)\n",
    "\n",
    "# Normalization\n",
    "from sklearn.preprocessing import MinMaxScaler\n",
    "scaler = MinMaxScaler(feature_range=(0,1))\n",
    "X2 = scaler.fit_transform(X2)\n",
    "\n",
    "# Split training and testing data\n",
    "X_train, X_test, y_train, y_test = train_test_split(X2, y, test_size=0.3)"
   ]
  },
  {
   "cell_type": "markdown",
   "metadata": {},
   "source": [
    "<h2>Using Ridge Regression</h2>"
   ]
  },
  {
   "cell_type": "code",
   "execution_count": 62,
   "metadata": {},
   "outputs": [
    {
     "name": "stdout",
     "output_type": "stream",
     "text": [
      "0.317288263438\n"
     ]
    }
   ],
   "source": [
    "model_ridge = linear_model.Ridge(alpha=1)\n",
    "model_ridge.fit(X_train, y_train)\n",
    "print(model_ridge.score(X_test, y_test))"
   ]
  },
  {
   "cell_type": "markdown",
   "metadata": {},
   "source": [
    "<h2>Using Lasso Regression</h2>"
   ]
  },
  {
   "cell_type": "code",
   "execution_count": 66,
   "metadata": {},
   "outputs": [
    {
     "name": "stdout",
     "output_type": "stream",
     "text": [
      "0.309054601729\n"
     ]
    }
   ],
   "source": [
    "# Feature Selection\n",
    "X_lasso = frame.drop(['cc5','target_value'], axis=1)\n",
    "X_lasso = X_lasso.drop(derived_columns, axis=1)\n",
    "X_lasso = X_lasso.drop(ppw_columns, axis=1)\n",
    "X_lasso = X_lasso.drop(bdtw_columns, axis=1)\n",
    "\n",
    "# Split training and testing data\n",
    "X_train, X_test, y_train, y_test = train_test_split(X_lasso, y, test_size=0.3)\n",
    "\n",
    "model_lasso = linear_model.Lasso(alpha=1, normalize=False)\n",
    "model_lasso.fit(X_train, y_train)\n",
    "print(model_lasso.score(X_test, y_test))\n",
    "# slow training time. linear and ridge regression took about a second, lasso took a minute.\n",
    "## update! it is fast now though the output is wrong.... what's going on?!!?\n",
    "### update! okay. so lasso regression works if the data is not normalized. If normalization is applied, training time will be fast but wrong."
   ]
  },
  {
   "cell_type": "markdown",
   "metadata": {},
   "source": [
    "<h2>Using Linear Regression with Polynomial Features</h2>"
   ]
  },
  {
   "cell_type": "code",
   "execution_count": 12,
   "metadata": {
    "collapsed": true
   },
   "outputs": [],
   "source": [
    "from sklearn.preprocessing import PolynomialFeatures\n",
    "\n",
    "X3 = scaler.fit_transform(X2)\n",
    "y = frame['target_value']\n",
    "X_tfm = PolynomialFeatures(degree=2).fit_transform(X2)"
   ]
  },
  {
   "cell_type": "code",
   "execution_count": 13,
   "metadata": {},
   "outputs": [
    {
     "data": {
      "text/plain": [
       "LinearRegression(copy_X=True, fit_intercept=True, n_jobs=1, normalize=False)"
      ]
     },
     "execution_count": 13,
     "metadata": {},
     "output_type": "execute_result"
    }
   ],
   "source": [
    "X_train2, X_test2, y_train2, y_test2 = train_test_split(X_tfm, y, test_size=0.3)\n",
    "model_polyreg = linear_model.LinearRegression()\n",
    "model_polyreg.fit(X_train2, y_train2)"
   ]
  },
  {
   "cell_type": "code",
   "execution_count": 14,
   "metadata": {},
   "outputs": [
    {
     "name": "stdout",
     "output_type": "stream",
     "text": [
      "0.480641865915\n"
     ]
    }
   ],
   "source": [
    "print(model_polyreg.score(X_test2, y_test2))\n",
    "# print(model_polyreg.coef_)"
   ]
  },
  {
   "cell_type": "markdown",
   "metadata": {},
   "source": [
    "<h2>Using Neural Network</h2>"
   ]
  },
  {
   "cell_type": "code",
   "execution_count": 15,
   "metadata": {},
   "outputs": [
    {
     "name": "stderr",
     "output_type": "stream",
     "text": [
      "C:\\ProgramData\\Anaconda3\\lib\\site-packages\\sklearn\\neural_network\\multilayer_perceptron.py:1266: DataConversionWarning: A column-vector y was passed when a 1d array was expected. Please change the shape of y to (n_samples, ), for example using ravel().\n",
      "  y = column_or_1d(y, warn=True)\n"
     ]
    },
    {
     "name": "stdout",
     "output_type": "stream",
     "text": [
      "0.496536355341\n"
     ]
    },
    {
     "name": "stderr",
     "output_type": "stream",
     "text": [
      "C:\\ProgramData\\Anaconda3\\lib\\site-packages\\sklearn\\neural_network\\multilayer_perceptron.py:563: ConvergenceWarning: Stochastic Optimizer: Maximum iterations reached and the optimization hasn't converged yet.\n",
      "  % (), ConvergenceWarning)\n"
     ]
    }
   ],
   "source": [
    "from sklearn.neural_network import MLPRegressor\n",
    "\n",
    "model_nn = MLPRegressor(hidden_layer_sizes=(8,6))\n",
    "# model = MLPRegressor()\n",
    "model_nn.fit(X_train, y_train)\n",
    "print(model_nn.score(X_test, y_test))"
   ]
  },
  {
   "cell_type": "code",
   "execution_count": 150,
   "metadata": {},
   "outputs": [
    {
     "name": "stderr",
     "output_type": "stream",
     "text": [
      "C:\\ProgramData\\Anaconda3\\lib\\site-packages\\sklearn\\neural_network\\multilayer_perceptron.py:1266: DataConversionWarning: A column-vector y was passed when a 1d array was expected. Please change the shape of y to (n_samples, ), for example using ravel().\n",
      "  y = column_or_1d(y, warn=True)\n"
     ]
    },
    {
     "name": "stdout",
     "output_type": "stream",
     "text": [
      "0.619573108098\n"
     ]
    }
   ],
   "source": [
    "model_nn2 = MLPRegressor(hidden_layer_sizes=(9,7))\n",
    "# model = MLPRegressor()\n",
    "model_nn2.fit(X_train, y_train)\n",
    "print(model_nn2.score(X_test, y_test))"
   ]
  },
  {
   "cell_type": "code",
   "execution_count": 17,
   "metadata": {},
   "outputs": [
    {
     "name": "stderr",
     "output_type": "stream",
     "text": [
      "C:\\ProgramData\\Anaconda3\\lib\\site-packages\\sklearn\\neural_network\\multilayer_perceptron.py:1266: DataConversionWarning: A column-vector y was passed when a 1d array was expected. Please change the shape of y to (n_samples, ), for example using ravel().\n",
      "  y = column_or_1d(y, warn=True)\n"
     ]
    },
    {
     "name": "stdout",
     "output_type": "stream",
     "text": [
      "0.608572774049\n"
     ]
    }
   ],
   "source": [
    "model_nn3 = MLPRegressor(hidden_layer_sizes=(11,8), alpha=0.01)\n",
    "# model = MLPRegressor()\n",
    "model_nn3.fit(X_train, y_train)\n",
    "print(model_nn3.score(X_test, y_test))"
   ]
  },
  {
   "cell_type": "code",
   "execution_count": 157,
   "metadata": {},
   "outputs": [
    {
     "name": "stderr",
     "output_type": "stream",
     "text": [
      "C:\\ProgramData\\Anaconda3\\lib\\site-packages\\sklearn\\neural_network\\multilayer_perceptron.py:1266: DataConversionWarning: A column-vector y was passed when a 1d array was expected. Please change the shape of y to (n_samples, ), for example using ravel().\n",
      "  y = column_or_1d(y, warn=True)\n"
     ]
    },
    {
     "name": "stdout",
     "output_type": "stream",
     "text": [
      "0.600246533126\n"
     ]
    }
   ],
   "source": [
    "model_nn4 = MLPRegressor(hidden_layer_sizes=(500,1), alpha=2)\n",
    "# model = MLPRegressor()\n",
    "model_nn4.fit(X_train, y_train)\n",
    "print(model_nn4.score(X_test, y_test))"
   ]
  },
  {
   "cell_type": "code",
   "execution_count": 167,
   "metadata": {},
   "outputs": [
    {
     "name": "stdout",
     "output_type": "stream",
     "text": [
      "0.455776824744\n"
     ]
    }
   ],
   "source": [
    "X_nn = X2[:100000]\n",
    "y_nn = y[:100000]\n",
    "X_train_nn, X_test_nn, y_train_nn, y_test_nn = train_test_split(X_nn, y_nn, test_size=0.3)\n",
    "\n",
    "model_nn5 = MLPRegressor(hidden_layer_sizes=(700,1), alpha=2, learning_rate_init=0.01)\n",
    "# model = MLPRegressor()\n",
    "model_nn5.fit(X_train_nn, y_train_nn)\n",
    "print(model_nn5.score(X_test_nn, y_test_nn))"
   ]
  },
  {
   "cell_type": "code",
   "execution_count": 26,
   "metadata": {},
   "outputs": [
    {
     "name": "stdout",
     "output_type": "stream",
     "text": [
      "0.635162523787\n"
     ]
    }
   ],
   "source": [
    "# Feature Selection\n",
    "X_comp = frame.drop(['cc5','target_value'], axis=1)\n",
    "X_comp = X_comp.drop(derived_columns, axis=1)\n",
    "\n",
    "# Normalization\n",
    "from sklearn.preprocessing import MinMaxScaler\n",
    "scaler = MinMaxScaler(feature_range=(0,1))\n",
    "X_comp = scaler.fit_transform(X_comp)\n",
    "\n",
    "# Split training and testing data\n",
    "X_train, X_test, y_train, y_test = train_test_split(X_comp, y, test_size=0.3)\n",
    "\n",
    "from sklearn.neural_network import MLPRegressor\n",
    "model_nn6 = MLPRegressor(hidden_layer_sizes=(9,7), alpha=0.01)\n",
    "# model = MLPRegressor()\n",
    "model_nn6.fit(X_train, y_train)\n",
    "print(model_nn6.score(X_test, y_test))"
   ]
  },
  {
   "cell_type": "code",
   "execution_count": 29,
   "metadata": {},
   "outputs": [
    {
     "name": "stdout",
     "output_type": "stream",
     "text": [
      "0.622111175128\n"
     ]
    }
   ],
   "source": [
    "from sklearn.neural_network import MLPRegressor\n",
    "model_nn7 = MLPRegressor(hidden_layer_sizes=(9,7), alpha=0.01)\n",
    "# model = MLPRegressor()\n",
    "model_nn7.fit(X_train, y_train)\n",
    "print(model_nn7.score(X_test, y_test))"
   ]
  },
  {
   "cell_type": "code",
   "execution_count": 30,
   "metadata": {},
   "outputs": [
    {
     "name": "stdout",
     "output_type": "stream",
     "text": [
      "0.624814055251\n"
     ]
    }
   ],
   "source": [
    "from sklearn.neural_network import MLPRegressor\n",
    "model_nn8 = MLPRegressor(hidden_layer_sizes=(8,6), alpha=0.01)\n",
    "# model = MLPRegressor()\n",
    "model_nn8.fit(X_train, y_train)\n",
    "print(model_nn8.score(X_test, y_test))"
   ]
  },
  {
   "cell_type": "markdown",
   "metadata": {},
   "source": [
    "<h2>Using SVM</h2>"
   ]
  },
  {
   "cell_type": "code",
   "execution_count": 169,
   "metadata": {},
   "outputs": [
    {
     "name": "stderr",
     "output_type": "stream",
     "text": [
      "C:\\ProgramData\\Anaconda3\\lib\\site-packages\\sklearn\\utils\\validation.py:526: DataConversionWarning: A column-vector y was passed when a 1d array was expected. Please change the shape of y to (n_samples, ), for example using ravel().\n",
      "  y = column_or_1d(y, warn=True)\n",
      "C:\\ProgramData\\Anaconda3\\lib\\site-packages\\sklearn\\svm\\base.py:220: ConvergenceWarning: Solver terminated early (max_iter=10000).  Consider pre-processing your data with StandardScaler or MinMaxScaler.\n",
      "  % self.max_iter, ConvergenceWarning)\n"
     ]
    },
    {
     "name": "stdout",
     "output_type": "stream",
     "text": [
      "-0.921819549331\n"
     ]
    }
   ],
   "source": [
    "from sklearn import svm\n",
    "\n",
    "model_svm = svm.SVR(kernel='poly', degree=3, max_iter=10000)\n",
    "model_svm.fit(X_train, y_train)\n",
    "print(model_svm.score(X_test, y_test))"
   ]
  },
  {
   "cell_type": "code",
   "execution_count": null,
   "metadata": {},
   "outputs": [
    {
     "name": "stderr",
     "output_type": "stream",
     "text": [
      "C:\\ProgramData\\Anaconda3\\lib\\site-packages\\sklearn\\utils\\validation.py:526: DataConversionWarning: A column-vector y was passed when a 1d array was expected. Please change the shape of y to (n_samples, ), for example using ravel().\n",
      "  y = column_or_1d(y, warn=True)\n"
     ]
    }
   ],
   "source": [
    "model_svm2 = svm.SVR(kernel='linear')\n",
    "model_svm2.fit(X_train, y_train)\n",
    "print(model_svm2.score(X_test, y_test))"
   ]
  },
  {
   "cell_type": "code",
   "execution_count": 29,
   "metadata": {},
   "outputs": [
    {
     "name": "stderr",
     "output_type": "stream",
     "text": [
      "C:\\ProgramData\\Anaconda3\\lib\\site-packages\\sklearn\\utils\\validation.py:526: DataConversionWarning: A column-vector y was passed when a 1d array was expected. Please change the shape of y to (n_samples, ), for example using ravel().\n",
      "  y = column_or_1d(y, warn=True)\n",
      "C:\\ProgramData\\Anaconda3\\lib\\site-packages\\sklearn\\svm\\base.py:220: ConvergenceWarning: Solver terminated early (max_iter=5000).  Consider pre-processing your data with StandardScaler or MinMaxScaler.\n",
      "  % self.max_iter, ConvergenceWarning)\n"
     ]
    },
    {
     "name": "stdout",
     "output_type": "stream",
     "text": [
      "-0.721085923655\n"
     ]
    }
   ],
   "source": [
    "from sklearn import svm\n",
    "X_svm = X2[:10000]\n",
    "y_svm = y[:10000]\n",
    "\n",
    "X_train_nn, X_test_nn, y_train_nn, y_test_nn = train_test_split(X_svm, y_svm, test_size=0.3)\n",
    "model_svm3 = svm.SVR(kernel='linear', gamma=5, epsilon=5, max_iter=5000)\n",
    "model_svm3.fit(X_train, y_train)\n",
    "print(model_svm3.score(X_test, y_test))"
   ]
  },
  {
   "cell_type": "code",
   "execution_count": null,
   "metadata": {
    "collapsed": true
   },
   "outputs": [],
   "source": []
  },
  {
   "cell_type": "markdown",
   "metadata": {},
   "source": [
    "<h2>Save models</h2>"
   ]
  },
  {
   "cell_type": "code",
   "execution_count": 27,
   "metadata": {},
   "outputs": [
    {
     "data": {
      "text/plain": [
       "['models/nn6.pkl']"
      ]
     },
     "execution_count": 27,
     "metadata": {},
     "output_type": "execute_result"
    }
   ],
   "source": [
    "from sklearn.externals import joblib\n",
    "\n",
    "path = 'models/'\n",
    "# joblib.dump(model_polyreg, path+'polyreg.pkl') \n",
    "# joblib.dump(model_nn, path+'nn.pkl') \n",
    "# joblib.dump(model_nn3, path+'nn3.pkl') \n",
    "joblib.dump(model_nn6, path+'nn6.pkl')"
   ]
  },
  {
   "cell_type": "markdown",
   "metadata": {
    "collapsed": true
   },
   "source": [
    "<h2>Load models</h2>"
   ]
  },
  {
   "cell_type": "code",
   "execution_count": 3,
   "metadata": {
    "collapsed": true
   },
   "outputs": [],
   "source": [
    "from sklearn.externals import joblib\n",
    "\n",
    "path = 'models/'\n",
    "model_nn3 = joblib.load(path+'nn3.pkl')  #Neural network, derived attributes with some features removed.\n",
    "model_nn6 = joblib.load(path+'nn6.pkl')  #Neural network, derived attributes removed.\n",
    "model_polyreg = joblib.load(path+'polyreg.pkl') "
   ]
  },
  {
   "cell_type": "markdown",
   "metadata": {},
   "source": [
    "<h2>Preprocessing</h2>"
   ]
  },
  {
   "cell_type": "code",
   "execution_count": 4,
   "metadata": {
    "collapsed": true
   },
   "outputs": [],
   "source": [
    "# Feature Selection\n",
    "X0 = frame.drop(['cc5','target_value'], axis=1)\n",
    "X0 = X0.drop(derived_columns, axis=1)\n",
    "X0 = X0.drop(ppw_columns, axis=1)\n",
    "X0 = X0.drop(bdtw_columns, axis=1)\n",
    "y = frame['target_value']\n",
    "\n",
    "# Normalization\n",
    "from sklearn.preprocessing import MinMaxScaler\n",
    "scaler = MinMaxScaler(feature_range=(0,1))\n",
    "X0 = scaler.fit_transform(X0)\n",
    "\n",
    "# Split training and testing data\n",
    "X_train, X_test, y_train, y_test = train_test_split(X0, y, test_size=0.3)"
   ]
  },
  {
   "cell_type": "markdown",
   "metadata": {},
   "source": [
    "<h2>Polynomial Regression plot</h2>"
   ]
  },
  {
   "cell_type": "code",
   "execution_count": 35,
   "metadata": {
    "collapsed": true
   },
   "outputs": [],
   "source": [
    "from sklearn.preprocessing import PolynomialFeatures\n",
    "\n",
    "X_tfm = PolynomialFeatures(degree=2).fit_transform(X0)\n",
    "X_train, X_test, y_train, y_test = train_test_split(X_tfm, y, test_size=0.3)"
   ]
  },
  {
   "cell_type": "code",
   "execution_count": 38,
   "metadata": {},
   "outputs": [
    {
     "data": {
      "image/png": "[encoded data removed]",
      "text/plain": [
       "<matplotlib.figure.Figure at 0x26a87f73cf8>"
      ]
     },
     "metadata": {},
     "output_type": "display_data"
    },
    {
     "name": "stdout",
     "output_type": "stream",
     "text": [
      "Score : 0.458028228093\n"
     ]
    }
   ],
   "source": [
    "temp = pd.DataFrame(data=X_test)\n",
    "temp['actual'] = y_test.values\n",
    "temp['predict'] = model_polyreg.predict(X_test)\n",
    "# temp.ideal\n",
    "# temp.predict\n",
    "\n",
    "temp.sort_values(by='actual', ascending=True, inplace=True)\n",
    "actual_plot = temp.actual\n",
    "predict_plot = temp.predict\n",
    "\n",
    "figure(num=None, figsize=(15, 8), dpi=80, facecolor='w', edgecolor='k')\n",
    "plt.plot(range(len(actual_plot)), actual_plot,color='g')\n",
    "plt.scatter(range(len(actual_plot)), predict_plot,color='b')\n",
    "\n",
    "plt.show()\n",
    "print('Score : ' + str(model_polyreg.score(X_test, y_test)))"
   ]
  },
  {
   "cell_type": "code",
   "execution_count": null,
   "metadata": {
    "collapsed": true
   },
   "outputs": [],
   "source": []
  },
  {
   "cell_type": "markdown",
   "metadata": {},
   "source": [
    "<h2>Neural Network plot</h2>"
   ]
  },
  {
   "cell_type": "code",
   "execution_count": 5,
   "metadata": {},
   "outputs": [
    {
     "data": {
      "image/png": "[encoded data removed]",
      "text/plain": [
       "<matplotlib.figure.Figure at 0x1aba51c3470>"
      ]
     },
     "metadata": {},
     "output_type": "display_data"
    },
    {
     "name": "stdout",
     "output_type": "stream",
     "text": [
      "Score : 0.635851513294\n"
     ]
    }
   ],
   "source": [
    "#some features removed\n",
    "temp = pd.DataFrame(data=X_test)\n",
    "temp['actual'] = y_test.values\n",
    "temp['predict'] = model_nn3.predict(X_test)\n",
    "# temp.ideal\n",
    "# temp.predict\n",
    "\n",
    "temp.sort_values(by='actual', ascending=True, inplace=True)\n",
    "actual_plot = temp.actual\n",
    "predict_plot = temp.predict\n",
    "\n",
    "figure(num=None, figsize=(15, 8), dpi=80, facecolor='w', edgecolor='k')\n",
    "plt.plot(range(len(actual_plot)), actual_plot,color='g')\n",
    "plt.scatter(range(len(actual_plot)), predict_plot,color='b')\n",
    "plt.show()\n",
    "\n",
    "# import seaborn as sns\n",
    "# ax = sns.distplot(actual_plot, color='red')\n",
    "# sns.distplot(cleaned_data[cleaned_data['content_rating'] == 'R'][\"imdb_score\"], color='teal', ax=ax)\n",
    "\n",
    "\n",
    "print('Score : ' + str(model_nn3.score(X_test, y_test)))"
   ]
  },
  {
   "cell_type": "code",
   "execution_count": 67,
   "metadata": {
    "collapsed": true
   },
   "outputs": [],
   "source": [
    "# Feature Selection\n",
    "X00 = frame.drop(['cc5','target_value'], axis=1)\n",
    "X00 = X00.drop(derived_columns, axis=1)\n",
    "\n",
    "# Normalization\n",
    "from sklearn.preprocessing import MinMaxScaler\n",
    "scaler = MinMaxScaler(feature_range=(0,1))\n",
    "X00 = scaler.fit_transform(X00)\n",
    "\n",
    "# Split training and testing data\n",
    "X_train, X_test, y_train, y_test = train_test_split(X00, y, test_size=0.3)"
   ]
  },
  {
   "cell_type": "code",
   "execution_count": 68,
   "metadata": {},
   "outputs": [
    {
     "data": {
      "image/png": "[encoded data removed]",
      "text/plain": [
       "<matplotlib.figure.Figure at 0x26a8a9681d0>"
      ]
     },
     "metadata": {},
     "output_type": "display_data"
    },
    {
     "name": "stdout",
     "output_type": "stream",
     "text": [
      "Score : 0.633014429127\n"
     ]
    }
   ],
   "source": [
    "temp = pd.DataFrame(data=X_test)\n",
    "temp['actual'] = y_test.values\n",
    "temp['predict'] = model_nn6.predict(X_test)\n",
    "\n",
    "temp.sort_values(by='actual', ascending=True, inplace=True)\n",
    "actual_plot = temp.actual\n",
    "predict_plot = temp.predict\n",
    "\n",
    "figure(num=None, figsize=(15, 8), dpi=80, facecolor='w', edgecolor='k')\n",
    "plt.plot(range(len(actual_plot)), actual_plot,color='g')\n",
    "plt.scatter(range(len(actual_plot)), predict_plot,color='b')\n",
    "\n",
    "plt.show()\n",
    "print('Score : ' + str(model_nn6.score(X_test, y_test)))"
   ]
  },
  {
   "cell_type": "code",
   "execution_count": 54,
   "metadata": {
    "collapsed": true
   },
   "outputs": [],
   "source": [
    "# frame[['cc1','cc2','cc3','cc4','cc5','target_value']]"
   ]
  }
 ],
 "metadata": {
  "kernelspec": {
   "display_name": "Python 3",
   "language": "python",
   "name": "python3"
  },
  "language_info": {
   "codemirror_mode": {
    "name": "ipython",
    "version": 3
   },
   "file_extension": ".py",
   "mimetype": "text/x-python",
   "name": "python",
   "nbconvert_exporter": "python",
   "pygments_lexer": "ipython3",
   "version": "3.6.1"
  }
 },
 "nbformat": 4,
 "nbformat_minor": 2
}
